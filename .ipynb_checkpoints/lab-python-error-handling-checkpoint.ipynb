{
 "cells": [
  {
   "cell_type": "markdown",
   "id": "25d7736c-ba17-4aff-b6bb-66eba20fbf4e",
   "metadata": {},
   "source": [
    "# Lab | Error Handling"
   ]
  },
  {
   "cell_type": "markdown",
   "id": "bc99b386-7508-47a0-bcdb-d969deaf6c8b",
   "metadata": {},
   "source": [
    "## Exercise: Error Handling for Managing Customer Orders\n",
    "\n",
    "The implementation of your code for managing customer orders assumes that the user will always enter a valid input. \n",
    "\n",
    "For example, we could modify the `initialize_inventory` function to include error handling.\n",
    "   - If the user enters an invalid quantity (e.g., a negative value or a non-numeric value), display an error message and ask them to re-enter the quantity for that product.\n",
    "   - Use a try-except block to handle the error and continue prompting the user until a valid quantity is entered.\n",
    "\n",
    "```python\n",
    "# Step 1: Define the function for initializing the inventory with error handling\n",
    "def initialize_inventory(products):\n",
    "    inventory = {}\n",
    "    for product in products:\n",
    "        valid_quantity = False\n",
    "        while not valid_quantity:\n",
    "            try:\n",
    "                quantity = int(input(f\"Enter the quantity of {product}s available: \"))\n",
    "                if quantity < 0:\n",
    "                    raise ValueError(\"Invalid quantity! Please enter a non-negative value.\")\n",
    "                valid_quantity = True\n",
    "            except ValueError as error:\n",
    "                print(f\"Error: {error}\")\n",
    "        inventory[product] = quantity\n",
    "    return inventory\n",
    "\n",
    "# Or, in another way:\n",
    "\n",
    "def initialize_inventory(products):\n",
    "    inventory = {}\n",
    "    for product in products:\n",
    "        valid_input = False\n",
    "        while not valid_input:\n",
    "            try:\n",
    "                quantity = int(input(f\"Enter the quantity of {product}s available: \"))\n",
    "                if quantity >= 0:\n",
    "                    inventory[product] = quantity\n",
    "                    valid_input = True\n",
    "                else:\n",
    "                    print(\"Quantity cannot be negative. Please enter a valid quantity.\")\n",
    "            except ValueError:\n",
    "                print(\"Invalid input. Please enter a valid quantity.\")\n",
    "    return inventory\n",
    "```\n",
    "\n",
    "Let's enhance your code by implementing error handling to handle invalid inputs.\n",
    "\n",
    "Follow the steps below to complete the exercise:\n",
    "\n",
    "2. Modify the `calculate_total_price` function to include error handling.\n",
    "   - If the user enters an invalid price (e.g., a negative value or a non-numeric value), display an error message and ask them to re-enter the price for that product.\n",
    "   - Use a try-except block to handle the error and continue prompting the user until a valid price is entered.\n",
    "\n",
    "3. Modify the `get_customer_orders` function to include error handling.\n",
    "   - If the user enters an invalid number of orders (e.g., a negative value or a non-numeric value), display an error message and ask them to re-enter the number of orders.\n",
    "   - If the user enters an invalid product name (e.g., a product name that is not in the inventory), or that doesn't have stock available, display an error message and ask them to re-enter the product name. *Hint: you will need to pass inventory as a parameter*\n",
    "   - Use a try-except block to handle the error and continue prompting the user until a valid product name is entered.\n",
    "\n",
    "4. Test your code by running the program and deliberately entering invalid quantities and product names. Make sure the error handling mechanism works as expected.\n"
   ]
  },
  {
   "cell_type": "code",
   "execution_count": 8,
   "id": "cb8441e4-f2bf-4a5c-85d3-f45a9689d436",
   "metadata": {},
   "outputs": [
    {
     "name": "stdin",
     "output_type": "stream",
     "text": [
      "Enter the quantity of t-shirts available:  2\n",
      "Enter the quantity of mugs available:  2\n",
      "Enter the quantity of hats available:  2\n",
      "Enter the quantity of books available:  2\n",
      "Enter the quantity of keychains available:  2\n",
      "Enter the number of customer orders:  4\n",
      "Enter the name of a product that a customer wants to order:  hat\n",
      "Enter the name of a product that a customer wants to order:  hat\n",
      "Enter the name of a product that a customer wants to order:  hat\n"
     ]
    },
    {
     "name": "stdout",
     "output_type": "stream",
     "text": [
      "Error: Not enough stock of hat to fulfill the order.\n"
     ]
    },
    {
     "name": "stdin",
     "output_type": "stream",
     "text": [
      "Enter the name of a product that a customer wants to order:  mug\n",
      "Enter the name of a product that a customer wants to order:  bookee\n"
     ]
    },
    {
     "name": "stdout",
     "output_type": "stream",
     "text": [
      "Error: Product not found in inventory.\n"
     ]
    },
    {
     "name": "stdin",
     "output_type": "stream",
     "text": [
      "Enter the name of a product that a customer wants to order:  book\n"
     ]
    },
    {
     "name": "stdout",
     "output_type": "stream",
     "text": [
      "\n",
      "Order Statistics:\n",
      "Total Products Ordered: 3\n",
      "Percentage of Unique Products Ordered: 60.00%\n",
      "\n",
      "Updated Inventory:\n",
      "t-shirt: 2\n",
      "mug: 1\n",
      "hat: 0\n",
      "book: 1\n",
      "keychain: 2\n"
     ]
    },
    {
     "name": "stdin",
     "output_type": "stream",
     "text": [
      "Enter the price of hat:  12\n",
      "Enter the price of mug:  5\n",
      "Enter the price of book:  10\n"
     ]
    },
    {
     "name": "stdout",
     "output_type": "stream",
     "text": [
      "\n",
      "Total Price: $39.00\n"
     ]
    }
   ],
   "source": [
    "from collections import Counter\n",
    "\n",
    "def initialize_inventory(products):\n",
    "    inventory = {}\n",
    "    for product in products:\n",
    "        valid_quantity = False\n",
    "        while not valid_quantity:\n",
    "            try:\n",
    "                quantity = int(input(f\"Enter the quantity of {product}s available: \"))\n",
    "                if quantity < 0:\n",
    "                    raise ValueError(\"Quantity cannot be negative.\")\n",
    "                valid_quantity = True\n",
    "                inventory[product] = quantity\n",
    "            except ValueError:\n",
    "                print(f\"Invalid input. Please enter a valid number.\")\n",
    "    return inventory\n",
    "\n",
    "def get_customer_orders(inventory):\n",
    "    while True:\n",
    "        try:\n",
    "            num_orders = int(input(\"Enter the number of customer orders: \"))\n",
    "            if num_orders < 0:\n",
    "                raise ValueError(\"Number of orders cannot be negative.\")\n",
    "            break\n",
    "        except ValueError as e:\n",
    "            print(f\"Error: {e}\")\n",
    "\n",
    "    customer_orders = {}\n",
    "\n",
    "    order_count = 0\n",
    "    while order_count < num_orders:\n",
    "            product = input(\"Enter the name of a product that a customer wants to order: \").lower()\n",
    "            if product not in inventory:\n",
    "                print(\"Error: Product not found in inventory.\")\n",
    "            elif inventory[product] <= 0:\n",
    "                print(f\"Error: {product} is out of stock.\")\n",
    "            elif customer_orders.get(product, 0) >= inventory[product]:\n",
    "                print(f\"Error: Not enough stock of {product} to fulfill the order.\")\n",
    "            else:\n",
    "                customer_orders[product] = customer_orders.get(product, 0) + 1\n",
    "                order_count += 1\n",
    "    return customer_orders\n",
    "\n",
    "def update_inventory(customer_orders, inventory):\n",
    "    for product, quantity in customer_orders.items():\n",
    "        if product in inventory:\n",
    "            inventory[product] -= quantity\n",
    "            if inventory[product] < 0:\n",
    "                inventory[product] = 0\n",
    "    #inventory = {product: qty for product, qty in inventory.items() if qty > 0}\n",
    "    return inventory\n",
    "\n",
    "def calculate_order_statistics(customer_orders, products):\n",
    "    total = len(customer_orders)\n",
    "    percentage = (len(set(customer_orders)) / len(products)) * 100\n",
    "    return total, percentage\n",
    "\n",
    "def calculate_total_price(customer_orders):\n",
    "    total_price = 0.0\n",
    "    for product, quantity in customer_orders.items():\n",
    "        valid_price = False\n",
    "        while not valid_price:\n",
    "            try:\n",
    "                price = float(input(f\"Enter the price of {product}: \"))\n",
    "                if price < 0:\n",
    "                    raise ValueError(\"Price cannot be negative.\")\n",
    "                total_price += price * quantity\n",
    "                valid_price = True\n",
    "            except ValueError as e:\n",
    "                print(f\"Error: {e}\")\n",
    "    return total_price\n",
    "\n",
    "def print_order_statistics(order_statistics):\n",
    "    print(\"\\nOrder Statistics:\")\n",
    "    print(f\"Total Products Ordered: {order_statistics[0]}\")\n",
    "    print(f\"Percentage of Unique Products Ordered: {order_statistics[1]:.2f}%\")\n",
    "\n",
    "def print_updated_inventory(inventory):\n",
    "    print(\"\\nUpdated Inventory:\")\n",
    "    for product, quantity in inventory.items():\n",
    "        print(f\"{product}: {quantity}\")\n",
    "\n",
    "\n",
    "products = [\"t-shirt\", \"mug\", \"hat\", \"book\", \"keychain\"]\n",
    "\n",
    "inventory = initialize_inventory(products)\n",
    "customer_orders = get_customer_orders(inventory)\n",
    "order_statistics = calculate_order_statistics(customer_orders, products)\n",
    "inventory = update_inventory(customer_orders, inventory)\n",
    "\n",
    "print_order_statistics(order_statistics)\n",
    "print_updated_inventory(inventory)\n",
    "\n",
    "total_price = calculate_total_price(customer_orders)\n",
    "print(f\"\\nTotal Price: ${total_price:.2f}\")"
   ]
  },
  {
   "cell_type": "code",
   "execution_count": null,
   "id": "d3bf1424-353f-4cd2-a106-8094989c5ec3",
   "metadata": {},
   "outputs": [],
   "source": [
    ":"
   ]
  }
 ],
 "metadata": {
  "kernelspec": {
   "display_name": "Python 3",
   "language": "python",
   "name": "python3"
  },
  "language_info": {
   "codemirror_mode": {
    "name": "ipython",
    "version": 3
   },
   "file_extension": ".py",
   "mimetype": "text/x-python",
   "name": "python",
   "nbconvert_exporter": "python",
   "pygments_lexer": "ipython3",
   "version": "3.11.7"
  }
 },
 "nbformat": 4,
 "nbformat_minor": 5
}
